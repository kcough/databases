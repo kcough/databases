{
 "cells": [
  {
   "cell_type": "markdown",
   "metadata": {},
   "source": [
    "## SCRAPING HTML\n",
    "HTML (\"Hypertext Mark-up Language\") is the language of the Internet, more specifically the World Wide Web. It is a very simple language that uses containers (like <HTML></HTML>) to tell a browser what up to display and how to display it.\n",
    "\n",
    "A note on browsers: from now on you should be using Chrome. If you do not have chrome installed on your computer, do that now before you go any further. Chrome's developers tools are by far the best and most reliable.\n",
    "\n",
    "This is how the Internet works (in a simplified way): you go to a page by typing a URL into the browser. The URL is and HTTP request for a file on a server. The file that arrives at your browser is an HTML file--the browser reads the HTML and displays what is supposed to be displayed, and also runs some scripts in the background. Most often, the page you see on your browser is an HTML page. (There are many exceptions, like direct PDF files, as well as data accessed via APIs.)\n",
    "\n",
    "HTML is the raw text source code of what you see in a browser. In Chrome you can view the raw HTML by either going to the menu bar and choosing--View: Developer: View Source -- or right-clicking (control-clicking) the mouse on a page and choosing View Source. Like so:\n",
    "\n",
    "<img src=\"http://floatingmedia.com/columbia/viewsource.png\">\n",
    "\n",
    "Don't panic! While HTML can be very disorienting at first look, there are more targeted and helpful ways to investigate it. The best one is through Chrome's \"inspect\" function. Right-click (or control-click) on the part the page that interests you, and select \"Inspect\" or \"Inspect Element\"--and you get the much more friendly developers tools way of navigating through the DOM tree:\n",
    "\n",
    "<img src=\"http://floatingmedia.com/columbia/inspect.png\">\n",
    "\n",
    "Did I say DOM tree? Yes, the DOM [document object model](https://www.w3schools.com/js/js_htmldom.asp) is a term for the hierarchical structure of HTML elements on a page. It is a tree, because each of the elements on a page is nested within groups of HTML tags. \n",
    "\n",
    "<img src=\"http://floatingmedia.com/columbia/treeStructure.png\">\n",
    "\n",
    "Here are the most common tags, and often the most helpful tags to use when navigating through an HTML page.\n",
    "\n",
    "`<h1>`, `<h2>`, `<h3>` headers\n",
    "`<p>` paragraph\n",
    "`<b>`, `<i>`, `<strong>` styles, like bold, italics...\n",
    "`<table><tr><td>` table elements including rows and cells\n",
    "`<a href=\"url\">` links\n",
    "`<div>`, `<span>` larger Element containers, these often have an id=\"name\" and/or class=\"name\" attached to them.\n",
    "`<ol>`,`<ul>`,`<li>` ordered and unordered lists\n",
    "\n",
    "For example: `<p>This would be a paragraph</p>`\n",
    "`<p>This would be a <b>paragraph</b></p>` Same thing but the word paragraph is bold\n",
    "\n",
    "Sometimes important information is hidden inside these tags:\n",
    "\n",
    "\n",
    "`<span class=\"year\">`2010`</span>`\n",
    "\n",
    "or \n",
    "\n",
    "`<a href=\"http://www.boxofficemojo.com/movies/?id=avengers11.htm\">`more info`</a>`\n",
    "\n",
    "In this case the \"class\" tag is likely adding styling information (see CSS), whereas the \"href\" tag holds a hyperlinked url. [For a more complete list of HTML tags click here](https://www.w3schools.com/tags/ref_byfunc.asp)\n",
    "\n",
    "\n",
    "**Why does this matter to us?**\n",
    "\n",
    "Note that each tag begins with `<tagname>` and ends with `</tagname>`. So these HTML tags are structuring the text. The reason for the structure just to tell the browser how everything should look, but we can also use the structure of HTML to programmatically traverse the data on a webpage and scrape out the information we need. This is what scraping is. HTML is not a reliable data structure, but it often it is consistent from page to page on a particular website. If you can learn how to navigate the dom tree, you can turn information on a messy webpage into reliable and searchable data.\n"
   ]
  },
  {
   "cell_type": "markdown",
   "metadata": {},
   "source": [
    "\n",
    "## My notes::\n",
    "\n",
    "#### on DOM: An object in javascript = a dictionary in python. everything is nested inside the keys.\n",
    "\n",
    "the tag is the key. \n",
    "When you're in Chrome: \n",
    "Go to : View>>Developer>>View Source\n",
    "\n",
    "Note on the following: \n",
    "If you're going to start a new python page for scraping, you should have the following code first:\n",
    "\n",
    "You can get the ORIGINAL FILE here: https://github.com/jthirkield/LedeProgram/blob/master/beautiful_soupCOMMENTS.ipynb\n",
    "\n",
    "**I've altered the original, so some of his notes may be out of order or not make sense. You can download his to change it by right-clicking on Raw and saving it, then opening it as a Python notebook.**"
   ]
  },
  {
   "cell_type": "markdown",
   "metadata": {},
   "source": [
    "## This brings us to Beautiful Soup\n",
    "Beautiful Soup is a Python library that parses HTML, allowing us to navigate through the elements of a webpage using the HTML tags embedded in it. [Here is the link to the documentation,](https://www.crummy.com/software/BeautifulSoup/bs4/doc/) there are examples and Extensions Beyond what is demonstrated below.\n",
    "\n",
    "Now it's time to install Beautiful soup. Go to your terminal/shell/bash and type:\n",
    "\n",
    "`pip3 install bs4`\n",
    "\n",
    "(*we already did this last class so you should be set*)\n",
    "\n",
    "\n",
    "We will begin by navigating a very simple HTML page I have posted on my website. [Please follow this link](http://floatingmedia.com/columbia/topfivelists.html) and try inspecting the HTML using Chrome. (p.s. The information on this page comes from [http://www.boxofficemojo.com/genres/chart/?id=comicbookadaptation.htm]"
   ]
  },
  {
   "cell_type": "markdown",
   "metadata": {},
   "source": [
    "The cell below uses the built in URL Library to import the file from the web. `raw_html` holds the text of that file.\n",
    "\n",
    "Printing raw_html gives us all the text that was in the file."
   ]
  },
  {
   "cell_type": "code",
   "execution_count": null,
   "metadata": {
    "collapsed": true
   },
   "outputs": [],
   "source": [
    "from urllib.request import urlopen\n",
    "from bs4 import BeautifulSoup\n",
    "#import the libraries you need"
   ]
  },
  {
   "cell_type": "markdown",
   "metadata": {},
   "source": [
    "After importing Beautiful soup we create a new variable called soup_doc. In that variable we transform the text that we downloaded from the URL (the text in raw_html) into a beautiful soup object that we can investigate with built in functions (like .find())"
   ]
  },
  {
   "cell_type": "code",
   "execution_count": null,
   "metadata": {},
   "outputs": [],
   "source": [
    "raw_html = urlopen(\"http://floatingmedia.com/columbia/topfivelists.html\").read()\n",
    "#this is the first real action we're going to do. we're going to get our data.\n",
    "soup_doc = BeautifulSoup(raw_html, \"html.parser\")\n",
    "#here we're parsing it with html parser and saving it in the variable soup_doc\n",
    "print(type(soup_doc))"
   ]
  },
  {
   "cell_type": "code",
   "execution_count": null,
   "metadata": {},
   "outputs": [],
   "source": [
    "print(type(raw_html))\n",
    "#essentially this is telling us it's a really complicated library"
   ]
  },
  {
   "cell_type": "code",
   "execution_count": null,
   "metadata": {},
   "outputs": [],
   "source": [
    "print(raw_html)\n",
    "#the raw HTML file. remember we named our file raw_html, it's sort of like a dictionary in python"
   ]
  },
  {
   "cell_type": "code",
   "execution_count": null,
   "metadata": {},
   "outputs": [],
   "source": [
    "print(soup_doc.prettify())\n",
    "#or: print(soup_doc)\n",
    "#this just makes it look nice"
   ]
  },
  {
   "cell_type": "markdown",
   "metadata": {},
   "source": [
    "Here is a very simple example of beautiful soup's built in functions. .title is shorthand for .find('title'). It finds the first title tag in the document. If we append .string we get the text inside the tag."
   ]
  },
  {
   "cell_type": "code",
   "execution_count": null,
   "metadata": {},
   "outputs": [],
   "source": [
    "soup_doc.title"
   ]
  },
  {
   "cell_type": "code",
   "execution_count": null,
   "metadata": {},
   "outputs": [],
   "source": [
    "soup_doc.title.string"
   ]
  },
  {
   "cell_type": "markdown",
   "metadata": {},
   "source": [
    "When you are first getting comfortable with beautiful soup, it is wise to use the .find() notation. find() searches for the first instance of a tag, and returns the contents of the tag as well as its tags. (Remember .string strips away the tags)"
   ]
  },
  {
   "cell_type": "code",
   "execution_count": null,
   "metadata": {},
   "outputs": [],
   "source": [
    "soup_doc.find('p')"
   ]
  },
  {
   "cell_type": "markdown",
   "metadata": {
    "collapsed": true
   },
   "source": [
    "Most often when we are scraping HTML simply finding one tag will not do the trick. We need to navigate hierarchically down the tree of nested tags. We'll begin by searching the first list that is contained in the first `<div>` tag. Since we are looking for the first occurrence, we can use .find()"
   ]
  },
  {
   "cell_type": "code",
   "execution_count": null,
   "metadata": {},
   "outputs": [],
   "source": [
    "soup_doc.find('div')\n",
    "#soup_doc.div  # would also work"
   ]
  },
  {
   "cell_type": "code",
   "execution_count": null,
   "metadata": {},
   "outputs": [],
   "source": [
    "soup_doc.find_all('div')[0]\n",
    "#"
   ]
  },
  {
   "cell_type": "markdown",
   "metadata": {},
   "source": [
    "Below, we navigate the tree: starting at the outer `<div>` tag, and then we use find_all() to get every `<p>` tag nested inside. After that we loop through the `<p>` tags, and pull out the text that is inside the `<b>` tag, using `string` get us just the name of the movies with no tags around it."
   ]
  },
  {
   "cell_type": "code",
   "execution_count": null,
   "metadata": {},
   "outputs": [],
   "source": [
    "first_div = soup_doc.find('div')\n",
    "#first_div Is a variable that contains all HTML in the first div \n",
    "all_paragraphs = first_div.find_all('p')\n",
    "#.find_all() gives us a list\n",
    "#so to search elements inside that list \n",
    "#we now need to loop through it\n",
    "for movies in all_paragraphs:\n",
    "    print(movies.find('b').string)"
   ]
  },
  {
   "cell_type": "markdown",
   "metadata": {},
   "source": [
    "**More on find_all()**\n",
    "\n",
    "If there are more than one of the same tags, find_all() gives us a list. We can use list notation to get a specific element in the list. The first cell below gives us a list of every single `<p>` tag in the document. In the following cell, we get a list of all of the `<p>` tags inside the first `<div>`. Try changing the index number `[0]` for each of these lists to see what you get."
   ]
  },
  {
   "cell_type": "code",
   "execution_count": null,
   "metadata": {},
   "outputs": [],
   "source": [
    "soup_doc.find_all('p')[0]\n",
    "# uncomment the line below to see the full list\n",
    "#soup_doc.find_all('p')"
   ]
  },
  {
   "cell_type": "code",
   "execution_count": null,
   "metadata": {},
   "outputs": [],
   "source": [
    "soup_doc.find('div').find_all('p')[0]\n",
    "#soup_doc.find('div').find_all('p')"
   ]
  },
  {
   "cell_type": "markdown",
   "metadata": {},
   "source": [
    "Here is a one line search down the tree. Note that I specify the index number of the `<p>` tag I want to search further. Again, if I wanted to search all of the `<p>` tags, I would need to use a loop."
   ]
  },
  {
   "cell_type": "code",
   "execution_count": null,
   "metadata": {},
   "outputs": [],
   "source": [
    "soup_doc.find('div').find_all('p')[2].find('b').string\n",
    "#soup_doc.div.find_all('p')[2].b.string ##Same thing but shorter\n",
    "#think about what this will get you before you return it. Why does it get you here? ((Avengers Age of Ultron.))"
   ]
  },
  {
   "cell_type": "code",
   "execution_count": null,
   "metadata": {},
   "outputs": [],
   "source": [
    "soup_doc.b\n",
    "#same as writing soup_doc.find('b')\n",
    "#this is just finding the FIRST ONE!\n",
    "# docname.b >> returns everything in bold tags in the doc"
   ]
  },
  {
   "cell_type": "code",
   "execution_count": null,
   "metadata": {},
   "outputs": [],
   "source": [
    "soup_doc.find_all('b') \n",
    "# >> will return everything in a bold tag"
   ]
  },
  {
   "cell_type": "markdown",
   "metadata": {},
   "source": [
    "These are two examples of searching the first list and pulling it out the name and date of the third movie in the list [2] -- try changing that index number to get movies in the list."
   ]
  },
  {
   "cell_type": "code",
   "execution_count": null,
   "metadata": {},
   "outputs": [],
   "source": [
    "that_movie = soup_doc.find('div').find_all('p')[2]\n",
    "#break this down and think about it. this is: find everything in paragraph tag [2], which is actually the third one\n",
    "#save this in in a variable that_movie\n",
    "movie_name = that_movie.find('b')\n",
    "#within that_movie, find everything in 'b' (bold) tags. we know the names are in bold because we looked at the view source\n",
    "#and noticed it.\n",
    "movie_year = that_movie.find('span')\n",
    "#find all the all the things in that_movie that are in a 'span' tag, which we know are years from looking at it\n",
    "print(movie_name, movie_year)"
   ]
  },
  {
   "cell_type": "code",
   "execution_count": null,
   "metadata": {},
   "outputs": [],
   "source": [
    "that_movie = soup_doc.find('div').find_all('p')[2]\n",
    "#here we're saying: look through all the div tags. find p [2] tags (which are actually the third p!)\n",
    "#save this in the variable that_movie\n",
    "movie_name = that_movie.b\n",
    "#here we're looking for everything in bold tags in the variable that_movie\n",
    "movie_year = that_movie.find('span')\n",
    "print(movie_name.string, \"||\", movie_year.string)"
   ]
  },
  {
   "cell_type": "markdown",
   "metadata": {},
   "source": [
    "What if you're missing bold (b) tags?"
   ]
  },
  {
   "cell_type": "markdown",
   "metadata": {},
   "source": [
    "Now we get the next list (the second `<div>` or list element [1]) and then pull out all of the names and dates by using a loop."
   ]
  },
  {
   "cell_type": "code",
   "execution_count": null,
   "metadata": {},
   "outputs": [],
   "source": [
    "next_list = soup_doc.find_all('div')[1]\n",
    "print(next_list)\n",
    "#here we're working on an array before the array has even been printed\n",
    "next_movies = next_list.find_all('p')\n",
    "print(next_movies)"
   ]
  },
  {
   "cell_type": "markdown",
   "metadata": {},
   "source": [
    "Here's another way to do this, breaking it down into steps.\n",
    "**note the commas hidden between tags! < p>,< /p> these mean it's a list!**"
   ]
  },
  {
   "cell_type": "code",
   "execution_count": null,
   "metadata": {},
   "outputs": [],
   "source": [
    "next_list = soup_doc.find_all('div')\n",
    "next_list[1]"
   ]
  },
  {
   "cell_type": "code",
   "execution_count": null,
   "metadata": {},
   "outputs": [],
   "source": [
    "next_movies = next_list[1].find_all('p')\n",
    "print(next_movies)"
   ]
  },
  {
   "cell_type": "code",
   "execution_count": null,
   "metadata": {},
   "outputs": [],
   "source": [
    "for movie in next_movies:\n",
    "    movie_name = movie.b\n",
    "    movie_year = movie.find('span')\n",
    "    print(movie_name.string, \"||\", movie_year.string)"
   ]
  },
  {
   "cell_type": "code",
   "execution_count": null,
   "metadata": {
    "collapsed": true
   },
   "outputs": [],
   "source": [
    "for movie in next_movies:\n",
    "    if movie.b is None:\n",
    "        continue #this is telling us to skip things not in bold tags\n",
    "        movie_name = movie.b\n",
    "        movie_year = movie.find('span')\n",
    "        print(movie_name.string,\"|\",movie_year.string)"
   ]
  },
  {
   "cell_type": "code",
   "execution_count": null,
   "metadata": {},
   "outputs": [],
   "source": [
    "for movie in next_movies:\n",
    "    if movie.b is None:\n",
    "        movie_name = movie.find('span').previous_sibling\n",
    "    else: movie_name = movie.b\n",
    "    print(movie_name.string,\"|\",movie_year.string)"
   ]
  },
  {
   "cell_type": "markdown",
   "metadata": {},
   "source": [
    "**FIND THE UNIQUE TAGS TO HELP YOU GET WHERE YOU NEED**\n",
    "\n",
    "To get the third list, we could have gotten `<div>` [2], but because it has a unique `<ul>` parent tag--we go straight for that.\n",
    "\n",
    "Try this: get 'Ghost in the Shell' out of that list."
   ]
  },
  {
   "cell_type": "code",
   "execution_count": null,
   "metadata": {},
   "outputs": [],
   "source": [
    "#third_list = soup_doc.find_all('div')[2].find('li')\n",
    "third_list = soup_doc.find('ul')\n",
    "print(third_list)"
   ]
  },
  {
   "cell_type": "code",
   "execution_count": null,
   "metadata": {},
   "outputs": [],
   "source": [
    "#in class practice: try and get <li> Ghost In The Shell <span class=\"year\">2017</span> out.\n",
    "#it's the fourth one, so [3]. remember \n",
    "third_list = soup_doc.find('ul')\n",
    "ghost = third_list.find_all('li')[3]\n",
    "print(ghost)\n"
   ]
  },
  {
   "cell_type": "markdown",
   "metadata": {},
   "source": [
    "Here's a worse way to do this. Note that with find_all you're getting a list, so you have to specify the element again within that list (third_list[0]). This is confusing. That's why we don't do it like this. But if you can understand what's happening here it's helpful."
   ]
  },
  {
   "cell_type": "code",
   "execution_count": null,
   "metadata": {},
   "outputs": [],
   "source": [
    "third_list = soup_doc.find_all('ul')\n",
    "ghost = third_list[0].find_all('li')[3]\n",
    "print(ghost)"
   ]
  },
  {
   "cell_type": "code",
   "execution_count": null,
   "metadata": {},
   "outputs": [],
   "source": [
    "#He went quickly through this. I'm not totally sure what's happening, but I think it would be helpful to go back \n",
    "#through it and try and understand\n",
    "third_list = soup_doc.find('ul')\n",
    "ghost = third_list.find_all('li')[3]\n",
    "ghost_name = ghost.find('span').previous_sibling\n",
    "print(ghost_name)"
   ]
  },
  {
   "cell_type": "markdown",
   "metadata": {},
   "source": [
    "**Parents, children, and siblings**\n",
    "\n",
    "So far we have navigated the DOM tree from parent to child-- div > p > b\n",
    "\n",
    "Sometimes you want to go the opposite direction, find a unique identifier inside a container and then get everything in the container. For example, as we saw the third list has a unique `<ul>` tag. If he wanted to get everything that is inside the same parent container (the `<div>`) we could do something like this:"
   ]
  },
  {
   "cell_type": "markdown",
   "metadata": {},
   "source": [
    "Remember that siblings are on the **same indent line** as one another. for example: look at the third div tag. look at ul. h1 is the previous sibling of ul. all the ones below it are the next siblings. div is the parent**"
   ]
  },
  {
   "cell_type": "code",
   "execution_count": null,
   "metadata": {},
   "outputs": [],
   "source": [
    "soup_doc.find('ul').parent"
   ]
  },
  {
   "cell_type": "markdown",
   "metadata": {},
   "source": [
    "You can also go sideways, meaning finding siblings--elements that are in the same container at the same level of the hierarchy. As you've seen, the fourth list is not in its own div. To get the fourth list we could use the unique `<h2>` to get all of the siblings that come after it."
   ]
  },
  {
   "cell_type": "code",
   "execution_count": null,
   "metadata": {},
   "outputs": [],
   "source": [
    "last_head = soup_doc.find('h2')\n",
    "last_list = last_head.find_next_siblings()\n",
    "last_list\n"
   ]
  },
  {
   "cell_type": "markdown",
   "metadata": {},
   "source": [
    "We can even specify what kind siblings you want to find--notice how that's final \"that's all\" showed up. We can search for all of the next `<p>` tags. (There is also a previous_siblings function goes backwards.)"
   ]
  },
  {
   "cell_type": "code",
   "execution_count": null,
   "metadata": {},
   "outputs": [],
   "source": [
    "last_head = soup_doc.find('h2')\n",
    "last_list = last_head.find_next_siblings('p')\n",
    "#this is asking us to find next siblings of h2 that have 'p' tags. note that it leaves off the h3 tag from above.\n",
    "last_list"
   ]
  },
  {
   "cell_type": "code",
   "execution_count": null,
   "metadata": {},
   "outputs": [],
   "source": [
    "for movie_name in last_list:\n",
    "    print(movie_name.string)"
   ]
  },
  {
   "cell_type": "markdown",
   "metadata": {},
   "source": [
    "## Searching id and class\n",
    "\n",
    "Most websites these days use id and class attributes to style (and run code) on their webpages. These can be some of the most helpful attributes to search for to find certain types/groups of information.\n",
    "\n",
    "**Classes** can be repeated, and are almost always used for styles. E.g. you might have five div tags with the same class. That means in those five boxes on the website those five boxes have the same font, background color, etc.\n",
    "\n",
    "**IDs** are supposed to be unique; one thing has one ID. Mostly they're used to tell Javascript this is where you want script to happen. If you see a box with things changing, there's an ID in that box that is putting things in the box and changing it."
   ]
  },
  {
   "cell_type": "code",
   "execution_count": 73,
   "metadata": {},
   "outputs": [
    {
     "name": "stdout",
     "output_type": "stream",
     "text": [
      "[<span class=\"year\">2010</span>, <span class=\"year\">2008</span>, <span class=\"year\">2015</span>, <span class=\"year\">2012</span>, <span class=\"year\">2013</span>, <span class=\"year\">2008</span>, <span class=\"year\">2008</span>, <span class=\"year\">1978</span>, <span class=\"year\">2013</span>, <span class=\"year\">2003</span>, <span class=\"year\">1991</span>, <span class=\"year\">1994</span>, <span class=\"year\">1993</span>, <span class=\"year\">2017</span>, <span class=\"year\">2004</span>]\n"
     ]
    }
   ],
   "source": [
    "#Finds all classes named \"year\"\n",
    "all_years = soup_doc.find_all(class_=\"year\")\n",
    "print(all_years)\n",
    "#Try printing out just the years without any tags around them"
   ]
  },
  {
   "cell_type": "code",
   "execution_count": 74,
   "metadata": {},
   "outputs": [
    {
     "name": "stdout",
     "output_type": "stream",
     "text": [
      "[<p id=\"favorite\"><b> Superman</b> <span class=\"year\">1978</span></p>]\n"
     ]
    }
   ],
   "source": [
    "#Finds any tag that has an id attribute in it\n",
    "fav = soup_doc.find_all(id=True)\n",
    "print(fav)"
   ]
  },
  {
   "cell_type": "code",
   "execution_count": null,
   "metadata": {
    "collapsed": true
   },
   "outputs": [],
   "source": [
    "fav = soup_doc.find_all(id='favorite')\n",
    "print(fav)"
   ]
  },
  {
   "cell_type": "markdown",
   "metadata": {},
   "source": [
    "You can also search for any kind of **attribute beyond id and class**, and you can specify what kind of tag you want to look for that attribute in. This is very helpful for zoning in on specific parts of the webpage."
   ]
  },
  {
   "cell_type": "code",
   "execution_count": 75,
   "metadata": {},
   "outputs": [
    {
     "name": "stdout",
     "output_type": "stream",
     "text": [
      "[<p id=\"favorite\"><b> Superman</b> <span class=\"year\">1978</span></p>]\n"
     ]
    }
   ],
   "source": [
    "fav = soup_doc.find_all('p', attrs={'id': 'favorite'})\n",
    "print(fav)\n",
    "#find me the paragraph tag with the ID tag favorite (this is in case there are some div tags with 'favorite' out there \n",
    "#as well, which would be bad web building but it happens)"
   ]
  },
  {
   "cell_type": "markdown",
   "metadata": {
    "collapsed": true
   },
   "source": [
    "## **Pulling out attributes**\n",
    "\n",
    "Not only can you search by attributes but you can pull out the information hidden inside a tag. **The most common information you will want to get is a link.** Like in this tag: \n",
    "`<a href=\"http://www.boxofficemojo.com/movies/?id=avengers11.htm\">more info</a>`\n",
    "\n",
    "**URLs are found in `<a>` tags inside the `href` attribute.**"
   ]
  },
  {
   "cell_type": "code",
   "execution_count": 84,
   "metadata": {},
   "outputs": [
    {
     "name": "stdout",
     "output_type": "stream",
     "text": [
      "<a href=\"http://www.boxofficemojo.com/movies/?id=avengers11.htm\">more info</a>\n"
     ]
    }
   ],
   "source": [
    "first_link = soup_doc.find('a')\n",
    "print(first_link)\n",
    "#first, we find the 'a' tag.\n",
    "#why do this instead of just finding the link? because if we want to use this for multiple links with a function (next week!)\n",
    "#it'll be easier, rather than finding each link you want manually and then rewriting all the code.\n",
    "#e.g. if there's one page with lots of links you want to scrape, you don't want to have to enter all the links manually\n",
    "#each time. this way you can have it loop over a bunch of links and scrape them all."
   ]
  },
  {
   "cell_type": "code",
   "execution_count": 79,
   "metadata": {},
   "outputs": [
    {
     "name": "stdout",
     "output_type": "stream",
     "text": [
      "http://www.boxofficemojo.com/movies/?id=avengers11.htm\n"
     ]
    }
   ],
   "source": [
    "get_url = first_link['href']\n",
    "#note: this is basically dictionary notation. turn those attributes into a dictionary\n",
    "print(get_url)"
   ]
  },
  {
   "cell_type": "code",
   "execution_count": 82,
   "metadata": {},
   "outputs": [
    {
     "name": "stdout",
     "output_type": "stream",
     "text": [
      "http://www.boxofficemojo.com/movies/?id=avengers11.htm\n"
     ]
    }
   ],
   "source": [
    "first_link = soup_doc.find('a')\n",
    "get_url = first_link['href']\n",
    "print(get_url)\n",
    "#altogether now"
   ]
  },
  {
   "cell_type": "markdown",
   "metadata": {},
   "source": [
    "**Using that link!**\n",
    "\n",
    "Here I am taking a real link to box office mojo and scraping a table with some basic information about the movie--and turning that info into a dictionary! I will cover this in class on Thursday."
   ]
  },
  {
   "cell_type": "markdown",
   "metadata": {},
   "source": [
    "## my notes:\n",
    "\n",
    "### TABLES \n",
    "are basically rows and columns. Open http://www.boxofficemojo.com/movies/?id=avengers11.htm. Inspect the page. Look at the table tag and what the attributes are inside it (e.g. background color, border, cellspacing, cellpadding, bgcolor, width are all attributes). Which attributes are unique? (another note: #dcdcdc is a hexidecimal color code.)"
   ]
  },
  {
   "cell_type": "code",
   "execution_count": null,
   "metadata": {},
   "outputs": [],
   "source": [
    "raw_html2 = urlopen(get_url).read()\n",
    "#NOTE this NEW VARIABLE called raw_html2\n",
    "soup_doc2 = BeautifulSoup(raw_html2, \"html.parser\")\n",
    "#this is a NEW VARIABLE for soup doc, parsing our new url properly\n",
    "print(soup_doc2.prettify())\n",
    "#make it fancy like and look at it so you know there's nothing wrong."
   ]
  },
  {
   "cell_type": "markdown",
   "metadata": {},
   "source": [
    "In this next section, we're using the UNIQUE ATTRIBUTES of the table to find what we want. There are a couple of ways to do this, because this table seems to have several unique ids. cellpadding, width, etc. Let's try it with a couple of them."
   ]
  },
  {
   "cell_type": "code",
   "execution_count": 86,
   "metadata": {},
   "outputs": [
    {
     "name": "stdout",
     "output_type": "stream",
     "text": [
      "<table bgcolor=\"#dcdcdc\" border=\"0\" cellpadding=\"4\" cellspacing=\"1\" width=\"95%\"><tr bgcolor=\"#ffffff\"><td align=\"center\" colspan=\"2\"><font size=\"4\">Domestic Total Gross: <b>$623,357,910</b></font></td></tr><tr bgcolor=\"#ffffff\"><td valign=\"top\">Distributor: <b><a href=\"/studio/chart/?studio=buenavista.htm\">Buena Vista</a></b></td><td valign=\"top\">Release Date: <b><nobr><a href=\"/schedule/?view=bydate&amp;release=theatrical&amp;date=2012-05-04&amp;p=.htm\">May 4, 2012</a></nobr></b></td></tr><tr bgcolor=\"#ffffff\"><td valign=\"top\">Genre: <b>Action / Adventure</b></td><td valign=\"top\">Runtime: <b>2 hrs. 22 min.</b></td></tr><tr bgcolor=\"#ffffff\"><td valign=\"top\">MPAA Rating: <b>PG-13</b></td><td valign=\"top\">Production Budget: <b>$220 million</b></td></tr></table>\n"
     ]
    }
   ],
   "source": [
    "my_table = soup_doc2.find(\"table\", attrs={\"bgcolor\": \"#dcdcdc\"})\n",
    "print(my_table)"
   ]
  },
  {
   "cell_type": "code",
   "execution_count": 87,
   "metadata": {},
   "outputs": [
    {
     "name": "stdout",
     "output_type": "stream",
     "text": [
      "<table bgcolor=\"#dcdcdc\" border=\"0\" cellpadding=\"4\" cellspacing=\"1\" width=\"95%\"><tr bgcolor=\"#ffffff\"><td align=\"center\" colspan=\"2\"><font size=\"4\">Domestic Total Gross: <b>$623,357,910</b></font></td></tr><tr bgcolor=\"#ffffff\"><td valign=\"top\">Distributor: <b><a href=\"/studio/chart/?studio=buenavista.htm\">Buena Vista</a></b></td><td valign=\"top\">Release Date: <b><nobr><a href=\"/schedule/?view=bydate&amp;release=theatrical&amp;date=2012-05-04&amp;p=.htm\">May 4, 2012</a></nobr></b></td></tr><tr bgcolor=\"#ffffff\"><td valign=\"top\">Genre: <b>Action / Adventure</b></td><td valign=\"top\">Runtime: <b>2 hrs. 22 min.</b></td></tr><tr bgcolor=\"#ffffff\"><td valign=\"top\">MPAA Rating: <b>PG-13</b></td><td valign=\"top\">Production Budget: <b>$220 million</b></td></tr></table>\n"
     ]
    }
   ],
   "source": [
    "my_table = soup_doc2.find(\"table\", attrs={\"width\": \"95%\"})\n",
    "print(my_table)\n",
    "#this is the SAME TABLE. we're just getting at it a different way, via the attribute width rather than bg color. it doesn't\n",
    "#matter how you do it.\n",
    "#save it in a new variable."
   ]
  },
  {
   "cell_type": "markdown",
   "metadata": {},
   "source": [
    "**tr** gives you the row, **td** has all the information (according to thirkield, who knows lots of things)"
   ]
  },
  {
   "cell_type": "code",
   "execution_count": 88,
   "metadata": {},
   "outputs": [
    {
     "data": {
      "text/plain": [
       "[<td align=\"center\" colspan=\"2\"><font size=\"4\">Domestic Total Gross: <b>$623,357,910</b></font></td>,\n",
       " <td valign=\"top\">Distributor: <b><a href=\"/studio/chart/?studio=buenavista.htm\">Buena Vista</a></b></td>,\n",
       " <td valign=\"top\">Release Date: <b><nobr><a href=\"/schedule/?view=bydate&amp;release=theatrical&amp;date=2012-05-04&amp;p=.htm\">May 4, 2012</a></nobr></b></td>,\n",
       " <td valign=\"top\">Genre: <b>Action / Adventure</b></td>,\n",
       " <td valign=\"top\">Runtime: <b>2 hrs. 22 min.</b></td>,\n",
       " <td valign=\"top\">MPAA Rating: <b>PG-13</b></td>,\n",
       " <td valign=\"top\">Production Budget: <b>$220 million</b></td>]"
      ]
     },
     "execution_count": 88,
     "metadata": {},
     "output_type": "execute_result"
    }
   ],
   "source": [
    "each_entry = my_table.find_all('td')\n",
    "each_entry\n",
    "#find all the tds in this new table that you found. this has all seven elements of the list."
   ]
  },
  {
   "cell_type": "markdown",
   "metadata": {},
   "source": [
    "Examine what you just got above. It looks like everything that matters is in bold 'b' tags."
   ]
  },
  {
   "cell_type": "code",
   "execution_count": 89,
   "metadata": {},
   "outputs": [
    {
     "name": "stdout",
     "output_type": "stream",
     "text": [
      "<td align=\"center\" colspan=\"2\"><font size=\"4\">Domestic Total Gross: <b>$623,357,910</b></font></td>\n"
     ]
    }
   ],
   "source": [
    "print(each_entry[0])"
   ]
  },
  {
   "cell_type": "code",
   "execution_count": 91,
   "metadata": {},
   "outputs": [
    {
     "name": "stdout",
     "output_type": "stream",
     "text": [
      "$623,357,910\n",
      "Domestic Total Gross: \n",
      "Buena Vista\n",
      "Distributor: \n",
      "May 4, 2012\n",
      "Release Date: \n",
      "Action / Adventure\n",
      "Genre: \n",
      "2 hrs. 22 min.\n",
      "Runtime: \n",
      "PG-13\n",
      "MPAA Rating: \n",
      "$220 million\n",
      "Production Budget: \n"
     ]
    }
   ],
   "source": [
    "for entry in each_entry:\n",
    "    the_data = entry.find('b')\n",
    "    #having observed that important things are in bold, we're going to look for 'b' tags in our new variable each_entry\n",
    "    the_category = the_data.previous_sibling\n",
    "    #pulling data for siblings because it's next door to it? not totally sure why we do this.\n",
    "    print(the_data.string)\n",
    "    print(the_category)"
   ]
  },
  {
   "cell_type": "markdown",
   "metadata": {},
   "source": [
    "Hmm. This looks like a backwards **dictionary**. Let's make it into a forward dictionary and save it as a structured piece of data."
   ]
  },
  {
   "cell_type": "code",
   "execution_count": 92,
   "metadata": {},
   "outputs": [
    {
     "data": {
      "text/plain": [
       "{'Distributor': 'Buena Vista',\n",
       " 'DomesticTotalGross': '$623,357,910',\n",
       " 'Genre': 'Action / Adventure',\n",
       " 'MPAARating': 'PG-13',\n",
       " 'ProductionBudget': '$220 million',\n",
       " 'ReleaseDate': 'May 4, 2012',\n",
       " 'Runtime': '2 hrs. 22 min.'}"
      ]
     },
     "execution_count": 92,
     "metadata": {},
     "output_type": "execute_result"
    }
   ],
   "source": [
    "avengers_dict = {}\n",
    "for entry in each_entry:\n",
    "    the_data = entry.find('b')\n",
    "    the_category = the_data.previous_sibling\n",
    "    #the category is the key, the data is the value. for each one of these we're making a category based on what we \n",
    "    #scraped, and the value is the data string.\n",
    "    data_string = the_data.string\n",
    "    the_category = the_category[:-2].replace(' ','')\n",
    "    #this is just cleaning it up, chopping off the last two characters and removing the spaces. comment it out and see \n",
    "    #what it looks like without it.\n",
    "    avengers_dict[the_category] = data_string\n",
    "avengers_dict\n"
   ]
  },
  {
   "cell_type": "code",
   "execution_count": 95,
   "metadata": {},
   "outputs": [
    {
     "data": {
      "text/plain": [
       "'Action / Adventure'"
      ]
     },
     "execution_count": 95,
     "metadata": {},
     "output_type": "execute_result"
    }
   ],
   "source": [
    "avengers_dict['Genre']\n",
    "#now we can treat it as a dictionary and pull things out like normal."
   ]
  },
  {
   "cell_type": "code",
   "execution_count": null,
   "metadata": {
    "collapsed": true
   },
   "outputs": [],
   "source": []
  }
 ],
 "metadata": {
  "kernelspec": {
   "display_name": "Python 3",
   "language": "python",
   "name": "python3"
  },
  "language_info": {
   "codemirror_mode": {
    "name": "ipython",
    "version": 3
   },
   "file_extension": ".py",
   "mimetype": "text/x-python",
   "name": "python",
   "nbconvert_exporter": "python",
   "pygments_lexer": "ipython3",
   "version": "3.6.1"
  }
 },
 "nbformat": 4,
 "nbformat_minor": 2
}
