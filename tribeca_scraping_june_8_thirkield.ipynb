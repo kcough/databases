{
 "cells": [
  {
   "cell_type": "markdown",
   "metadata": {},
   "source": [
    "# Scraping the Tribeca Film Festival Website!\n",
    "\n",
    "## Then we practiced scraping here:\n",
    "https://tribecafilm.com/filmguide?letter=a\n",
    "\n",
    "The first thing we did we was go to the page, right click and inspect to see what the tags were.\n"
   ]
  },
  {
   "cell_type": "code",
   "execution_count": null,
   "metadata": {
    "collapsed": true
   },
   "outputs": [],
   "source": [
    "from urllib.request import urlopen\n",
    "from bs4 import BeautifulSoup\n",
    "#import your libraries"
   ]
  },
  {
   "cell_type": "code",
   "execution_count": null,
   "metadata": {},
   "outputs": [],
   "source": [
    "my_url = \"https://tribecafilm.com/filmguide?letter=a\"\n",
    "raw_html = urlopen(my_url).read()\n",
    "soup_doc = BeautifulSoup(raw_html, \"html.parser\")\n",
    "print(type(soup_doc))"
   ]
  },
  {
   "cell_type": "code",
   "execution_count": null,
   "metadata": {},
   "outputs": [],
   "source": [
    "print(soup_doc.prettify())\n"
   ]
  },
  {
   "cell_type": "markdown",
   "metadata": {},
   "source": [
    "Let's start by getting out the stuff that's in the article tag and see if it's a useful container."
   ]
  },
  {
   "cell_type": "code",
   "execution_count": null,
   "metadata": {},
   "outputs": [],
   "source": [
    "soup_doc.find('article')\n",
    "#let's get the first article and see what it looks like. \n",
    "soup_doc.find_all('article')\n",
    "#now find all and see if there's anything wierd. note that it's a LIST as evidenced by the bracket\n",
    "soup_doc.find_all('article')[2]\n",
    "#look at the third one, or the sixth, or whatever"
   ]
  },
  {
   "cell_type": "markdown",
   "metadata": {},
   "source": [
    "**What do we want from here?** How about the title? The year? Directed by? Go back to the Chrome inspec and look what's in there. We could look at the photos (marqueePhoto). Let's start with *div class left* because it'll be hard."
   ]
  },
  {
   "cell_type": "code",
   "execution_count": null,
   "metadata": {},
   "outputs": [],
   "source": [
    "all_movies = soup_doc.find_all('article')\n",
    "all_movies\n",
    "#let's make a variable with every single movie on the page \n",
    "#using the code from above. "
   ]
  },
  {
   "cell_type": "code",
   "execution_count": null,
   "metadata": {},
   "outputs": [],
   "source": [
    "all_movies[0]\n",
    "#this is code to look at the very first movie (you could do anyone you want-1,2,6 whatever). we're starting with the \n",
    "#first element in the list"
   ]
  },
  {
   "cell_type": "code",
   "execution_count": 16,
   "metadata": {},
   "outputs": [
    {
     "data": {
      "text/plain": [
       "<div class=\"left\">\n",
       "<h1 class=\"headerTitle\">\n",
       "<a href=\"/filmguide/aardvark-2017\">AARDVARK</a>\n",
       "</h1>\n",
       "<div class=\"headerTags\">\n",
       "<a class=\"texticon\" href=\"/filmguide/archive?year=2017\">TFF 2017</a>\n",
       "<a class=\"texticon\" href=\"/filmguide?film_type=Narrative\">Narrative</a>\n",
       "<a class=\"texticon\" href=\"/filmguide?film_duration=Feature\">Feature</a>\n",
       "</div>\n",
       "<ul class=\"filmDetails\">\n",
       "<li>Section: US Narrative Competition</li>\n",
       "<li>Release Year: 2017</li>\n",
       "<li>Runtime: 89 minutes</li>\n",
       "<li>\n",
       "                        Directed By:\n",
       "\n",
       "                    Brian Shoaf\n",
       "\n",
       "                  </li>\n",
       "<li>Country:\n",
       "                    <a href=\"/filmguide?country=512cd41e1c7d768969000001\">USA</a>\n",
       "</li>\n",
       "</ul>\n",
       "</div>"
      ]
     },
     "execution_count": 16,
     "metadata": {},
     "output_type": "execute_result"
    }
   ],
   "source": [
    "#we're interested in div class left. now we're inside the first article (aka the first movie) \n",
    "#and let's do things from there.\n",
    "all_movies[0].find(class_='left')\n"
   ]
  },
  {
   "cell_type": "markdown",
   "metadata": {},
   "source": [
    "# NOTE \n",
    "\n",
    "## THE UNDERSCORE\n",
    "after class: 'class' is a recognized thing in python, so we have to add the underscore after class to use it. this is the only one that that is true for."
   ]
  },
  {
   "cell_type": "code",
   "execution_count": 21,
   "metadata": {},
   "outputs": [
    {
     "data": {
      "text/plain": [
       "<div class=\"left\">\n",
       "<h1 class=\"headerTitle\">\n",
       "<a href=\"/filmguide/aardvark-2017\">AARDVARK</a>\n",
       "</h1>\n",
       "<div class=\"headerTags\">\n",
       "<a class=\"texticon\" href=\"/filmguide/archive?year=2017\">TFF 2017</a>\n",
       "<a class=\"texticon\" href=\"/filmguide?film_type=Narrative\">Narrative</a>\n",
       "<a class=\"texticon\" href=\"/filmguide?film_duration=Feature\">Feature</a>\n",
       "</div>\n",
       "<ul class=\"filmDetails\">\n",
       "<li>Section: US Narrative Competition</li>\n",
       "<li>Release Year: 2017</li>\n",
       "<li>Runtime: 89 minutes</li>\n",
       "<li>\n",
       "                        Directed By:\n",
       "\n",
       "                    Brian Shoaf\n",
       "\n",
       "                  </li>\n",
       "<li>Country:\n",
       "                    <a href=\"/filmguide?country=512cd41e1c7d768969000001\">USA</a>\n",
       "</li>\n",
       "</ul>\n",
       "</div>"
      ]
     },
     "execution_count": 21,
     "metadata": {},
     "output_type": "execute_result"
    }
   ],
   "source": [
    "#we could also do this, which is more explicit but gets you the same thing. LEFT is styling in CSS. \n",
    "all_movies[0].find('div', attrs={'class':'left'})"
   ]
  },
  {
   "cell_type": "code",
   "execution_count": 22,
   "metadata": {},
   "outputs": [
    {
     "data": {
      "text/plain": [
       "[<a href=\"/filmguide/aardvark-2017\">AARDVARK</a>,\n",
       " <a class=\"texticon\" href=\"/filmguide/archive?year=2017\">TFF 2017</a>,\n",
       " <a class=\"texticon\" href=\"/filmguide?film_type=Narrative\">Narrative</a>,\n",
       " <a class=\"texticon\" href=\"/filmguide?film_duration=Feature\">Feature</a>,\n",
       " <a href=\"/filmguide?country=512cd41e1c7d768969000001\">USA</a>]"
      ]
     },
     "execution_count": 22,
     "metadata": {},
     "output_type": "execute_result"
    }
   ],
   "source": [
    "movie_info = all_movies[0].find('div', attrs={'class':'left'})\n",
    "#save it in a variable!!\n",
    "movie_info.find_all('a')"
   ]
  },
  {
   "cell_type": "code",
   "execution_count": 23,
   "metadata": {},
   "outputs": [
    {
     "data": {
      "text/plain": [
       "<div class=\"left\">\n",
       "<h1 class=\"headerTitle\">\n",
       "<a href=\"/filmguide/aardvark-2017\">AARDVARK</a>\n",
       "</h1>\n",
       "<div class=\"headerTags\">\n",
       "<a class=\"texticon\" href=\"/filmguide/archive?year=2017\">TFF 2017</a>\n",
       "<a class=\"texticon\" href=\"/filmguide?film_type=Narrative\">Narrative</a>\n",
       "<a class=\"texticon\" href=\"/filmguide?film_duration=Feature\">Feature</a>\n",
       "</div>\n",
       "<ul class=\"filmDetails\">\n",
       "<li>Section: US Narrative Competition</li>\n",
       "<li>Release Year: 2017</li>\n",
       "<li>Runtime: 89 minutes</li>\n",
       "<li>\n",
       "                        Directed By:\n",
       "\n",
       "                    Brian Shoaf\n",
       "\n",
       "                  </li>\n",
       "<li>Country:\n",
       "                    <a href=\"/filmguide?country=512cd41e1c7d768969000001\">USA</a>\n",
       "</li>\n",
       "</ul>\n",
       "</div>"
      ]
     },
     "execution_count": 23,
     "metadata": {},
     "output_type": "execute_result"
    }
   ],
   "source": [
    "#let's look at it again and see what we've found so far and what we haven't. everything is either in an 'a' tag\n",
    "#or in a list, 'li'. How will you get everything else out??\n",
    "movie_info"
   ]
  },
  {
   "cell_type": "code",
   "execution_count": 24,
   "metadata": {},
   "outputs": [
    {
     "data": {
      "text/plain": [
       "[<li>Section: US Narrative Competition</li>,\n",
       " <li>Release Year: 2017</li>,\n",
       " <li>Runtime: 89 minutes</li>,\n",
       " <li>\n",
       "                         Directed By:\n",
       " \n",
       "                     Brian Shoaf\n",
       " \n",
       "                   </li>,\n",
       " <li>Country:\n",
       "                     <a href=\"/filmguide?country=512cd41e1c7d768969000001\">USA</a>\n",
       " </li>]"
      ]
     },
     "execution_count": 24,
     "metadata": {},
     "output_type": "execute_result"
    }
   ],
   "source": [
    "movie_info.find_all('li')\n",
    "#find the things in the list! that's everything in there."
   ]
  },
  {
   "cell_type": "markdown",
   "metadata": {},
   "source": [
    "### Eventually\n",
    "we want to make this into a dictionary, for ease of use. So we should check it before we go further. How many elements do you get using the a tag? Using the li? Will this pattern be true for everything (all the movies) or will we lose things? We've only been looking at the first movie. Let's go back and change the [0] at the beginning to a [1] and see if our code works. Do we get five things for each?? So go back to all_movies[0] and change it to [1]. Then 2. Change it all the way across. We can do this manually or do it with **looping**!"
   ]
  },
  {
   "cell_type": "code",
   "execution_count": 25,
   "metadata": {},
   "outputs": [
    {
     "name": "stdout",
     "output_type": "stream",
     "text": [
      "5\n",
      "5\n",
      "5\n",
      "5\n",
      "5\n",
      "5\n",
      "5\n",
      "3\n",
      "5\n",
      "5\n"
     ]
    }
   ],
   "source": [
    "for this_movie in all_movies:\n",
    "    movie_info = this_movie.find('div', attrs={'class': 'left'})\n",
    "    this_array = movie_info.find_all('a')\n",
    "    print(len(this_array))\n",
    "\n",
    "    #look at the length of the array\n",
    "#we're looping through and seeing how many things it finds!\n"
   ]
  },
  {
   "cell_type": "markdown",
   "metadata": {},
   "source": [
    "There's a three in there! oh sad. Something will be inconsistent, but generally it's pretty good."
   ]
  }
 ],
 "metadata": {
  "kernelspec": {
   "display_name": "Python 3",
   "language": "python",
   "name": "python3"
  },
  "language_info": {
   "codemirror_mode": {
    "name": "ipython",
    "version": 3
   },
   "file_extension": ".py",
   "mimetype": "text/x-python",
   "name": "python",
   "nbconvert_exporter": "python",
   "pygments_lexer": "ipython3",
   "version": "3.6.1"
  }
 },
 "nbformat": 4,
 "nbformat_minor": 2
}
